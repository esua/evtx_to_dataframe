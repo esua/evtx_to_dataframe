{
 "cells": [
  {
   "cell_type": "code",
   "execution_count": null,
   "metadata": {},
   "outputs": [],
   "source": [
    "import Evtx.Evtx as evtx\n",
    "import pandas as pd\n",
    "import xmltodict\n",
    "import re\n",
    "\n",
    "path = './test2.evtx'\n",
    "with evtx.Evtx(path) as log:\n",
    "    data_dicts = []\n",
    "\n",
    "    for record in log.records():\n",
    "        elem = record.xml()\n",
    "        elem = re.sub(r'<Data Name=\"(.+)\">(.+)</Data>', r'<\\1>\\2</\\1>', elem)\n",
    "        data_dict = xmltodict.parse(elem)  # convert xml to dict\n",
    "        data_dicts.append(data_dict)\n",
    "\n",
    "df = pd.json_normalize(data_dicts)  # convert dict to pd.DataFrame\n"
   ]
  }
 ],
 "metadata": {
  "language_info": {
   "codemirror_mode": {
    "name": "ipython",
    "version": 3
   },
   "file_extension": ".py",
   "mimetype": "text/x-python",
   "name": "python",
   "nbconvert_exporter": "python",
   "pygments_lexer": "ipython3",
   "version": 3
  },
  "orig_nbformat": 2
 },
 "nbformat": 4,
 "nbformat_minor": 2
}
